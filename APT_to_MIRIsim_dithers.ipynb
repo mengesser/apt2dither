{
 "cells": [
  {
   "cell_type": "markdown",
   "metadata": {
    "toc": true
   },
   "source": [
    "<h1>Table of Contents<span class=\"tocSkip\"></span></h1>\n",
    "<div class=\"toc\"><ul class=\"toc-item\"><li><span><a href=\"#Imports\" data-toc-modified-id=\"Imports-1\"><span class=\"toc-item-num\">1&nbsp;&nbsp;</span>Imports</a></span></li><li><span><a href=\"#Functions\" data-toc-modified-id=\"Functions-2\"><span class=\"toc-item-num\">2&nbsp;&nbsp;</span>Functions</a></span></li></ul></div>"
   ]
  },
  {
   "cell_type": "markdown",
   "metadata": {},
   "source": [
    "# Imports"
   ]
  },
  {
   "cell_type": "code",
   "execution_count": 1,
   "metadata": {
    "ExecuteTime": {
     "end_time": "2019-10-04T15:30:57.826305Z",
     "start_time": "2019-10-04T15:30:54.248597Z"
    }
   },
   "outputs": [],
   "source": [
    "import miricoord.miricoord.imager.mirim_tools as mt\n",
    "#import pysiaf\n",
    "#siaf = pysiaf.Siaf('MIRI')#,basepath='/Users/dlaw/jwcode/pysiaf/pysiaf/pre_delivery_data/MIRI')\n",
    "import miricoord.miricoord.mrs.mrs_tools as mrst\n",
    "import miricoord.miricoord.lrs.lrs_tools as lrst\n",
    "import re"
   ]
  },
  {
   "cell_type": "markdown",
   "metadata": {},
   "source": [
    "# Functions"
   ]
  },
  {
   "cell_type": "code",
   "execution_count": 2,
   "metadata": {
    "ExecuteTime": {
     "end_time": "2019-10-08T15:36:03.819853Z",
     "start_time": "2019-10-08T15:36:03.817088Z"
    }
   },
   "outputs": [],
   "source": [
    "fname1 = '../Downloads/untitled.pointing'\n",
    "fname2 = 'test.pointing'\n",
    "fname3 = '../Downloads/sub.pointing'"
   ]
  },
  {
   "cell_type": "code",
   "execution_count": 113,
   "metadata": {
    "ExecuteTime": {
     "end_time": "2019-10-08T14:33:17.360507Z",
     "start_time": "2019-10-08T14:33:17.356963Z"
    }
   },
   "outputs": [],
   "source": [
    "def get_data(file):\n",
    "    \"\"\"\n",
    "    Opens a file, and reads in data.\n",
    "    \n",
    "    Parameters:\n",
    "        \n",
    "        file - file path\n",
    "        \n",
    "    Returns:\n",
    "        \n",
    "        data - array of strings\n",
    "    \"\"\"\n",
    "    f = open(file,'r')\n",
    "    data = f.read()\n",
    "    f.close()\n",
    "    \n",
    "    return data"
   ]
  },
  {
   "cell_type": "code",
   "execution_count": 133,
   "metadata": {
    "ExecuteTime": {
     "end_time": "2019-10-08T15:31:27.352898Z",
     "start_time": "2019-10-08T15:31:27.346551Z"
    }
   },
   "outputs": [],
   "source": [
    "def ref_mode(mode):\n",
    "    \"\"\"\n",
    "    Defines reference pixels for different imaging modes.\n",
    "    \n",
    "    Parameters:\n",
    "        \n",
    "        mode - string containing imaging mode.\n",
    "        \n",
    "    Returns:\n",
    "    \n",
    "        xref, yref - Floating point reference pixel coordinates\n",
    "    \n",
    "    \"\"\"\n",
    "    xref, yref = 692.5, 511.5\n",
    "    xref_slit, yref_slit = 325.13, 299.7\n",
    "    xref_slitless, yref_slitless = 37.5, 300.\n",
    "    \n",
    "    BRIGHTSKY_x, BRIGHTSKY_y = 711.5, 305.5\n",
    "    SUB256_x, SUB256_y = 539.5, 177.5\n",
    "    SUB128_x, SUB128_y =  69.5, 951.5\n",
    "    SUB64_x, SUB64_y =  37.5, 809.5\n",
    "        \n",
    "    if \"SLITLESS\" in mode:\n",
    "        xref = xref_slitless\n",
    "        yref = yref_slitless\n",
    "\n",
    "    elif \"SLIT\" in mode:\n",
    "        xref = xref_slit\n",
    "        yref = yref_slit\n",
    "\n",
    "    elif \"BRIGHTSKY\" in mode:\n",
    "        xref = BRIGHTSKY_x\n",
    "        yref = BRIGHTSKY_y\n",
    "\n",
    "    elif \"256\" in mode:\n",
    "        xref = SUB256_x\n",
    "        yref = SUB256_y\n",
    "        \n",
    "    elif \"128\" in mode:\n",
    "        xref = SUB128_x\n",
    "        yref = SUB128_y\n",
    "\n",
    "    elif \"64\" in mode:\n",
    "        xref = SUB64_x\n",
    "        yref = SUB64_y\n",
    "\n",
    "    else:\n",
    "        xref = xref\n",
    "        yref = yref\n",
    "    \n",
    "    return xref, yref"
   ]
  },
  {
   "cell_type": "code",
   "execution_count": 134,
   "metadata": {
    "ExecuteTime": {
     "end_time": "2019-10-08T15:33:24.648035Z",
     "start_time": "2019-10-08T15:33:24.641911Z"
    }
   },
   "outputs": [],
   "source": [
    "def print_head(f):\n",
    "     \"\"\"\n",
    "    Prints currently relevant header information to top of output file.\n",
    "    \n",
    "    Parameters:\n",
    "    \n",
    "        f - file IO object\n",
    "    \"\"\"\n",
    "    xref, yref = 692.5, 511.5\n",
    "    xref_slit, yref_slit = 325.13, 299.7\n",
    "    xref_slitless, yref_slitless = 37.5, 300.\n",
    "    \n",
    "    BRIGHTSKY_x, BRIGHTSKY_y = 711.5, 305.5\n",
    "    SUB256_x, SUB256_y = 539.5, 177.5\n",
    "    SUB128_x, SUB128_y =  69.5, 951.5\n",
    "    SUB64_x, SUB64_y =  37.5, 809.5\n",
    "\n",
    "    f.write('# Dithers are multiplied by -1 pending resolution of http://www.miricle.org/bugzilla/show_bug.cgi?id=588 \\n')\n",
    "    f.write('# The following reference pixels are hard-coded for use: \\n')\n",
    "    f.write('# Imaging: {}, {} \\n'.format(xref,yref))\n",
    "    f.write('# LRS Slit: {}, {} \\n'.format(xref_slit,yref_slit))\n",
    "    f.write('# LRS Slitless: {}, {} \\n'.format(xref_slitless,yref_slitless))\n",
    "    f.write('# BRIGHTSKY: {}, {} \\n'.format(BRIGHTSKY_x,BRIGHTSKY_y))\n",
    "    f.write('# SUB256: {}, {} \\n'.format(SUB256_x, SUB256_y))\n",
    "    f.write('# SUB128: {}, {} \\n'.format(SUB128_x, SUB128_y))\n",
    "    f.write('# SUB64: {}, {} \\n\\n'.format(SUB64_x, SUB64_y))\n",
    "    \n",
    "    return"
   ]
  },
  {
   "cell_type": "code",
   "execution_count": 135,
   "metadata": {
    "ExecuteTime": {
     "end_time": "2019-10-08T15:33:41.490692Z",
     "start_time": "2019-10-08T15:33:41.478348Z"
    },
    "code_folding": []
   },
   "outputs": [],
   "source": [
    "def make_dith_file(in_file, outfile):\n",
    "    \"\"\"\n",
    "    Converts an APT pointing file to a list of dithers for use in MIRIsim. \n",
    "    \n",
    "    Parameters:\n",
    "         \n",
    "        in_file - APT pointing file path\n",
    "        \n",
    "    Returns:\n",
    "    \n",
    "        outfile - Text file containing MIRIsim readable dithers.\n",
    "\n",
    "    \"\"\"\n",
    "\n",
    "    #Read apt data and split into rows\n",
    "    data = get_data(in_file)\n",
    "    split_data = data.split('\\n')\n",
    "\n",
    "    #open output file\n",
    "    f = open(outfile,\"w+\")\n",
    "    \n",
    "    #append header info to output file\n",
    "    print_head(f)\n",
    "    \n",
    "    for row in split_data:\n",
    "        #split row into columns on whitespace\n",
    "        r = row.split()\n",
    "\n",
    "        #rows with < 20 columns contain no data\n",
    "        if len(r) < 20:\n",
    "            f.write(str('#' + ' '.join(r)+ '\\n'))\n",
    "\n",
    "        else:\n",
    "            # 'MIRIM' indicates Imager or LRS\n",
    "            if \"MIRIM\" in r[4]:\n",
    "\n",
    "                v2 = float(r[13])\n",
    "                v3 = float(r[14])\n",
    "\n",
    "                #convert v2 and v3 coordinates to x and y\n",
    "                x,y = mt.v2v3toxy(v2,v3,'F770W')\n",
    "                \n",
    "                #determine the proper reference pixel for the imaging mode\n",
    "                xref, yref = ref_mode(r[4])\n",
    "                    \n",
    "                #these keywords all indicate a coronagraphic image, not supported by MIRIsim\n",
    "                if \"BLOCK\" in r[4] or \"UR\" in r[4] or \"MASK\" in r[4]:\n",
    "                    f.write(\"#MIRIsim does not support Coronagraphy \\n\")\n",
    "                    continue\n",
    "\n",
    "                #compute dither\n",
    "                else:\n",
    "                    dx = xref - x[0]\n",
    "                    dy = yref - y[0]\n",
    "\n",
    "                #write to file\n",
    "                try:\n",
    "                    s = \"{0:.2f}, {1:.2f}\".format(dx,dy)\n",
    "                    f.write(s + '\\n')\n",
    "                except:\n",
    "                    pass\n",
    "\n",
    "            #'MIRIFU' indicates MRS\n",
    "            elif \"MIRIFU\" in r[4]:\n",
    "                v2 = float(r[13])\n",
    "                v3 = float(r[14])\n",
    "\n",
    "                #determine stype\n",
    "                channel = r[4][-2:]\n",
    "\n",
    "                #convert to alpha,beta\n",
    "                a,b = mrst.v2v3toab(v2,v3, channel) #mult by -1\n",
    "                da = -1.*a\n",
    "                db = -1.*b\n",
    "\n",
    "                try:\n",
    "                    s = \"{0:.3f}, {1:.3f}\".format(da,db)\n",
    "                    f.write(s + '\\n')\n",
    "                except:\n",
    "                    pass\n",
    "\n",
    "    f.close()\n",
    "    return"
   ]
  },
  {
   "cell_type": "code",
   "execution_count": 136,
   "metadata": {
    "ExecuteTime": {
     "end_time": "2019-10-08T15:33:43.053903Z",
     "start_time": "2019-10-08T15:33:43.050794Z"
    }
   },
   "outputs": [],
   "source": [
    "if __name__ == \"Main\":\n",
    "    infile = input(\"APT pointing file name: \")\n",
    "    outfile = input(\"Output file name: \")\n",
    "    \n",
    "    make_dith_file(infile, outfile)"
   ]
  },
  {
   "cell_type": "code",
   "execution_count": 130,
   "metadata": {
    "ExecuteTime": {
     "end_time": "2019-10-08T14:47:04.895965Z",
     "start_time": "2019-10-08T14:47:04.821623Z"
    }
   },
   "outputs": [],
   "source": [
    "make_dith_file(fname1, 'subout.txt')"
   ]
  },
  {
   "cell_type": "code",
   "execution_count": 1,
   "metadata": {
    "ExecuteTime": {
     "end_time": "2019-10-08T15:56:27.181322Z",
     "start_time": "2019-10-08T15:56:25.517418Z"
    }
   },
   "outputs": [],
   "source": [
    "import apt2dither"
   ]
  },
  {
   "cell_type": "code",
   "execution_count": 7,
   "metadata": {
    "ExecuteTime": {
     "end_time": "2019-10-08T15:39:05.849152Z",
     "start_time": "2019-10-08T15:39:05.776845Z"
    }
   },
   "outputs": [],
   "source": [
    "apt2dither.make_dith_file(fname3,'subout.txt')"
   ]
  },
  {
   "cell_type": "code",
   "execution_count": 4,
   "metadata": {
    "ExecuteTime": {
     "end_time": "2019-10-09T15:41:07.432140Z",
     "start_time": "2019-10-09T15:41:07.395537Z"
    }
   },
   "outputs": [
    {
     "name": "stdout",
     "output_type": "stream",
     "text": [
      "Help on module apt2dither:\n",
      "\n",
      "NAME\n",
      "    apt2dither\n",
      "\n",
      "FUNCTIONS\n",
      "    get_data(file)\n",
      "        Opens a file, and reads in data.\n",
      "        \n",
      "        Parameters:\n",
      "            \n",
      "            file - file path\n",
      "            \n",
      "        Returns:\n",
      "            \n",
      "            data - array of strings\n",
      "    \n",
      "    make_dith_file(in_file, outfile)\n",
      "        Converts an APT pointing file to a list of dithers for use in MIRIsim. \n",
      "        \n",
      "        Parameters:\n",
      "             \n",
      "            in_file - APT pointing file path\n",
      "            \n",
      "        Returns:\n",
      "        \n",
      "            outfile - Text file containing MIRIsim readable dithers.\n",
      "    \n",
      "    print_head(f)\n",
      "        Prints currently relevant header information to top of output file.\n",
      "        \n",
      "        Parameters:\n",
      "        \n",
      "            f - file IO object\n",
      "    \n",
      "    ref_mode(mode)\n",
      "        Defines reference pixels for different imaging modes.\n",
      "        \n",
      "        Parameters:\n",
      "            \n",
      "            mode - string containing imaging mode.\n",
      "            \n",
      "        Returns:\n",
      "        \n",
      "            xref, yref - Floating point reference pixel coordinates\n",
      "\n",
      "DATA\n",
      "    siaf = <pysiaf.Siaf object Instrument=MIRI >\n",
      "\n",
      "FILE\n",
      "    /Users/mengesser/Documents/apt2dither.py\n",
      "\n",
      "\n"
     ]
    }
   ],
   "source": [
    "help(apt2dither)"
   ]
  },
  {
   "cell_type": "code",
   "execution_count": null,
   "metadata": {},
   "outputs": [],
   "source": []
  }
 ],
 "metadata": {
  "kernelspec": {
   "display_name": "Python 3",
   "language": "python",
   "name": "python3"
  },
  "language_info": {
   "codemirror_mode": {
    "name": "ipython",
    "version": 3
   },
   "file_extension": ".py",
   "mimetype": "text/x-python",
   "name": "python",
   "nbconvert_exporter": "python",
   "pygments_lexer": "ipython3",
   "version": "3.7.3"
  },
  "toc": {
   "base_numbering": 1,
   "nav_menu": {},
   "number_sections": true,
   "sideBar": true,
   "skip_h1_title": false,
   "title_cell": "Table of Contents",
   "title_sidebar": "Contents",
   "toc_cell": true,
   "toc_position": {},
   "toc_section_display": true,
   "toc_window_display": true
  },
  "varInspector": {
   "cols": {
    "lenName": 16,
    "lenType": 16,
    "lenVar": 40
   },
   "kernels_config": {
    "python": {
     "delete_cmd_postfix": "",
     "delete_cmd_prefix": "del ",
     "library": "var_list.py",
     "varRefreshCmd": "print(var_dic_list())"
    },
    "r": {
     "delete_cmd_postfix": ") ",
     "delete_cmd_prefix": "rm(",
     "library": "var_list.r",
     "varRefreshCmd": "cat(var_dic_list()) "
    }
   },
   "types_to_exclude": [
    "module",
    "function",
    "builtin_function_or_method",
    "instance",
    "_Feature"
   ],
   "window_display": false
  }
 },
 "nbformat": 4,
 "nbformat_minor": 2
}
